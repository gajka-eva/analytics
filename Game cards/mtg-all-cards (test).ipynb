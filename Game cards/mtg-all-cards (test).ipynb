{
 "cells": [
  {
   "cell_type": "markdown",
   "id": "6fcc9acd",
   "metadata": {
    "papermill": {
     "duration": 0.009918,
     "end_time": "2022-06-16T12:03:41.362971",
     "exception": false,
     "start_time": "2022-06-16T12:03:41.353053",
     "status": "completed"
    },
    "tags": []
   },
   "source": [
    "# Magic: The Gathering (анализ карт)"
   ]
  },
  {
   "cell_type": "markdown",
   "id": "1931b3b3",
   "metadata": {
    "papermill": {
     "duration": 0.008801,
     "end_time": "2022-06-16T12:03:41.380666",
     "exception": false,
     "start_time": "2022-06-16T12:03:41.371865",
     "status": "completed"
    },
    "tags": []
   },
   "source": [
    "<div class=\"alert alert-block alert-info\">\n",
    "Дан датафрейм с данными по картам, используемым в игре Magic: The Gathering. Необходимо ответить на следующие вопросы:  \n",
    "1. Определить распределение карт по цвету в зависимости от редкости.  \n",
    "2. Найти процент карт, запрещенных в формате Commander, а также распределение по типу для этих карт.  \n",
    "3. Составить топ-10 карт, не являющихся землями, которые были напечатаны в наибольшем количестве сетов.  \n",
    "4. Для карт, не являющихся землями, определить, какая часть из них даёт ману с помощью своего эффекта. Показать распределение по типу маны, которую дают эти карты.  "
   ]
  },
  {
   "cell_type": "code",
   "execution_count": 1,
   "id": "9273a26c",
   "metadata": {
    "execution": {
     "iopub.execute_input": "2022-06-16T12:03:41.400508Z",
     "iopub.status.busy": "2022-06-16T12:03:41.400090Z",
     "iopub.status.idle": "2022-06-16T12:03:42.464989Z",
     "shell.execute_reply": "2022-06-16T12:03:42.463825Z"
    },
    "id": "87AcpZ4-OfJS",
    "papermill": {
     "duration": 1.077835,
     "end_time": "2022-06-16T12:03:42.467502",
     "exception": false,
     "start_time": "2022-06-16T12:03:41.389667",
     "status": "completed"
    },
    "tags": []
   },
   "outputs": [],
   "source": [
    "# загрузка библиотек\n",
    "import pandas as pd\n",
    "import matplotlib.pyplot as plt\n",
    "import seaborn as sns\n",
    "import plotly.graph_objects as go\n",
    "import warnings\n",
    "warnings.filterwarnings('ignore')"
   ]
  },
  {
   "cell_type": "code",
   "execution_count": 2,
   "id": "e7bf97b3",
   "metadata": {
    "execution": {
     "iopub.execute_input": "2022-06-16T12:03:42.487355Z",
     "iopub.status.busy": "2022-06-16T12:03:42.486581Z",
     "iopub.status.idle": "2022-06-16T12:03:48.112389Z",
     "shell.execute_reply": "2022-06-16T12:03:48.111637Z"
    },
    "id": "lcl2EA6gOpDw",
    "papermill": {
     "duration": 5.638012,
     "end_time": "2022-06-16T12:03:48.114578",
     "exception": false,
     "start_time": "2022-06-16T12:03:42.476566",
     "status": "completed"
    },
    "tags": []
   },
   "outputs": [],
   "source": [
    "# открытие файла\n",
    "df = pd.read_csv('../input/mtg-all-cards/all_mtg_cards.csv')"
   ]
  },
  {
   "cell_type": "code",
   "execution_count": 3,
   "id": "45bda41f",
   "metadata": {
    "execution": {
     "iopub.execute_input": "2022-06-16T12:03:48.134404Z",
     "iopub.status.busy": "2022-06-16T12:03:48.133896Z",
     "iopub.status.idle": "2022-06-16T12:03:48.140545Z",
     "shell.execute_reply": "2022-06-16T12:03:48.139727Z"
    },
    "id": "YVADEptAYzo3",
    "papermill": {
     "duration": 0.019281,
     "end_time": "2022-06-16T12:03:48.142678",
     "exception": false,
     "start_time": "2022-06-16T12:03:48.123397",
     "status": "completed"
    },
    "tags": []
   },
   "outputs": [],
   "source": [
    "# функция для изучения данных\n",
    "def open_info(data):\n",
    "    # вывод 5 строк данных\n",
    "    print('*******************************************************')\n",
    "    print('Представление датафрейма')\n",
    "    display(data.head())\n",
    "    print('*******************************************************')\n",
    "    # вывод информации о датафрейме\n",
    "    print('Общая информация о датафрейме')\n",
    "    print('')\n",
    "    print(data.info())\n",
    "    print('*******************************************************')\n",
    "    # проверка на наличие дубликатов\n",
    "    print('Дубликаты:', data.duplicated().sum())\n",
    "    print('*******************************************************')\n",
    "    # проверка на наличие пропусков\n",
    "    print('Пропуски:', data.isnull().sum())"
   ]
  },
  {
   "cell_type": "code",
   "execution_count": 4,
   "id": "f9370b96",
   "metadata": {
    "execution": {
     "iopub.execute_input": "2022-06-16T12:03:48.162093Z",
     "iopub.status.busy": "2022-06-16T12:03:48.161706Z",
     "iopub.status.idle": "2022-06-16T12:03:49.062983Z",
     "shell.execute_reply": "2022-06-16T12:03:49.062174Z"
    },
    "id": "cosQxOoAY7w3",
    "outputId": "b347eb48-b5ff-4f71-bab0-dcc064965ede",
    "papermill": {
     "duration": 0.913632,
     "end_time": "2022-06-16T12:03:49.065159",
     "exception": false,
     "start_time": "2022-06-16T12:03:48.151527",
     "status": "completed"
    },
    "tags": []
   },
   "outputs": [
    {
     "name": "stdout",
     "output_type": "stream",
     "text": [
      "*******************************************************\n",
      "Представление датафрейма\n"
     ]
    },
    {
     "data": {
      "text/html": [
       "<div>\n",
       "<style scoped>\n",
       "    .dataframe tbody tr th:only-of-type {\n",
       "        vertical-align: middle;\n",
       "    }\n",
       "\n",
       "    .dataframe tbody tr th {\n",
       "        vertical-align: top;\n",
       "    }\n",
       "\n",
       "    .dataframe thead th {\n",
       "        text-align: right;\n",
       "    }\n",
       "</style>\n",
       "<table border=\"1\" class=\"dataframe\">\n",
       "  <thead>\n",
       "    <tr style=\"text-align: right;\">\n",
       "      <th></th>\n",
       "      <th>name</th>\n",
       "      <th>multiverse_id</th>\n",
       "      <th>layout</th>\n",
       "      <th>names</th>\n",
       "      <th>mana_cost</th>\n",
       "      <th>cmc</th>\n",
       "      <th>colors</th>\n",
       "      <th>color_identity</th>\n",
       "      <th>type</th>\n",
       "      <th>supertypes</th>\n",
       "      <th>...</th>\n",
       "      <th>foreign_names</th>\n",
       "      <th>printings</th>\n",
       "      <th>original_text</th>\n",
       "      <th>original_type</th>\n",
       "      <th>legalities</th>\n",
       "      <th>source</th>\n",
       "      <th>image_url</th>\n",
       "      <th>set</th>\n",
       "      <th>set_name</th>\n",
       "      <th>id</th>\n",
       "    </tr>\n",
       "  </thead>\n",
       "  <tbody>\n",
       "    <tr>\n",
       "      <th>0</th>\n",
       "      <td>Ancestor's Chosen</td>\n",
       "      <td>130550.0</td>\n",
       "      <td>normal</td>\n",
       "      <td>NaN</td>\n",
       "      <td>{5}{W}{W}</td>\n",
       "      <td>7.0</td>\n",
       "      <td>['White']</td>\n",
       "      <td>['W']</td>\n",
       "      <td>Creature — Human Cleric</td>\n",
       "      <td>NaN</td>\n",
       "      <td>...</td>\n",
       "      <td>[{'name': 'Ausgewählter der Ahnfrau', 'text': ...</td>\n",
       "      <td>['10E', 'JUD', 'UMA']</td>\n",
       "      <td>First strike (This creature deals combat damag...</td>\n",
       "      <td>Creature - Human Cleric</td>\n",
       "      <td>[{'format': 'Commander', 'legality': 'Legal'},...</td>\n",
       "      <td>NaN</td>\n",
       "      <td>http://gatherer.wizards.com/Handlers/Image.ash...</td>\n",
       "      <td>10E</td>\n",
       "      <td>Tenth Edition</td>\n",
       "      <td>5f8287b1-5bb6-5f4c-ad17-316a40d5bb0c</td>\n",
       "    </tr>\n",
       "    <tr>\n",
       "      <th>1</th>\n",
       "      <td>Ancestor's Chosen</td>\n",
       "      <td>NaN</td>\n",
       "      <td>normal</td>\n",
       "      <td>NaN</td>\n",
       "      <td>{5}{W}{W}</td>\n",
       "      <td>7.0</td>\n",
       "      <td>['White']</td>\n",
       "      <td>['W']</td>\n",
       "      <td>Creature — Human Cleric</td>\n",
       "      <td>NaN</td>\n",
       "      <td>...</td>\n",
       "      <td>NaN</td>\n",
       "      <td>['10E', 'JUD', 'UMA']</td>\n",
       "      <td>NaN</td>\n",
       "      <td>NaN</td>\n",
       "      <td>[{'format': 'Commander', 'legality': 'Legal'},...</td>\n",
       "      <td>NaN</td>\n",
       "      <td>NaN</td>\n",
       "      <td>10E</td>\n",
       "      <td>Tenth Edition</td>\n",
       "      <td>b7c19924-b4bf-56fc-aa73-f586e940bd42</td>\n",
       "    </tr>\n",
       "    <tr>\n",
       "      <th>2</th>\n",
       "      <td>Angel of Mercy</td>\n",
       "      <td>129465.0</td>\n",
       "      <td>normal</td>\n",
       "      <td>NaN</td>\n",
       "      <td>{4}{W}</td>\n",
       "      <td>5.0</td>\n",
       "      <td>['White']</td>\n",
       "      <td>['W']</td>\n",
       "      <td>Creature — Angel</td>\n",
       "      <td>NaN</td>\n",
       "      <td>...</td>\n",
       "      <td>[{'name': 'Engel der Gnade', 'text': 'Fliegend...</td>\n",
       "      <td>['10E', '8ED', '9ED', 'DDC', 'DVD', 'IMA', 'IN...</td>\n",
       "      <td>Flying (This creature can't be blocked except ...</td>\n",
       "      <td>Creature - Angel</td>\n",
       "      <td>[{'format': 'Commander', 'legality': 'Legal'},...</td>\n",
       "      <td>NaN</td>\n",
       "      <td>http://gatherer.wizards.com/Handlers/Image.ash...</td>\n",
       "      <td>10E</td>\n",
       "      <td>Tenth Edition</td>\n",
       "      <td>57aaebc1-850c-503d-9f6e-bb8d00d8bf7c</td>\n",
       "    </tr>\n",
       "    <tr>\n",
       "      <th>3</th>\n",
       "      <td>Angel of Mercy</td>\n",
       "      <td>NaN</td>\n",
       "      <td>normal</td>\n",
       "      <td>NaN</td>\n",
       "      <td>{4}{W}</td>\n",
       "      <td>5.0</td>\n",
       "      <td>['White']</td>\n",
       "      <td>['W']</td>\n",
       "      <td>Creature — Angel</td>\n",
       "      <td>NaN</td>\n",
       "      <td>...</td>\n",
       "      <td>NaN</td>\n",
       "      <td>['10E', '8ED', '9ED', 'DDC', 'DVD', 'IMA', 'IN...</td>\n",
       "      <td>NaN</td>\n",
       "      <td>NaN</td>\n",
       "      <td>[{'format': 'Commander', 'legality': 'Legal'},...</td>\n",
       "      <td>NaN</td>\n",
       "      <td>NaN</td>\n",
       "      <td>10E</td>\n",
       "      <td>Tenth Edition</td>\n",
       "      <td>8fd4e2eb-3eb4-50ea-856b-ef638fa47f8a</td>\n",
       "    </tr>\n",
       "    <tr>\n",
       "      <th>4</th>\n",
       "      <td>Angelic Blessing</td>\n",
       "      <td>129711.0</td>\n",
       "      <td>normal</td>\n",
       "      <td>NaN</td>\n",
       "      <td>{2}{W}</td>\n",
       "      <td>3.0</td>\n",
       "      <td>['White']</td>\n",
       "      <td>['W']</td>\n",
       "      <td>Sorcery</td>\n",
       "      <td>NaN</td>\n",
       "      <td>...</td>\n",
       "      <td>[{'name': 'Himmlischer Segen', 'text': 'Eine K...</td>\n",
       "      <td>['10E', '9ED', 'EXO', 'P02', 'POR', 'PS11', 'S...</td>\n",
       "      <td>Target creature gets +3/+3 and gains flying un...</td>\n",
       "      <td>Sorcery</td>\n",
       "      <td>[{'format': 'Commander', 'legality': 'Legal'},...</td>\n",
       "      <td>NaN</td>\n",
       "      <td>http://gatherer.wizards.com/Handlers/Image.ash...</td>\n",
       "      <td>10E</td>\n",
       "      <td>Tenth Edition</td>\n",
       "      <td>55bd38ca-dc73-5c06-8f80-a6ddd2f44382</td>\n",
       "    </tr>\n",
       "  </tbody>\n",
       "</table>\n",
       "<p>5 rows × 39 columns</p>\n",
       "</div>"
      ],
      "text/plain": [
       "                name  multiverse_id  layout  names  mana_cost  cmc     colors  \\\n",
       "0  Ancestor's Chosen       130550.0  normal    NaN  {5}{W}{W}  7.0  ['White']   \n",
       "1  Ancestor's Chosen            NaN  normal    NaN  {5}{W}{W}  7.0  ['White']   \n",
       "2     Angel of Mercy       129465.0  normal    NaN     {4}{W}  5.0  ['White']   \n",
       "3     Angel of Mercy            NaN  normal    NaN     {4}{W}  5.0  ['White']   \n",
       "4   Angelic Blessing       129711.0  normal    NaN     {2}{W}  3.0  ['White']   \n",
       "\n",
       "  color_identity                     type supertypes  ...  \\\n",
       "0          ['W']  Creature — Human Cleric        NaN  ...   \n",
       "1          ['W']  Creature — Human Cleric        NaN  ...   \n",
       "2          ['W']         Creature — Angel        NaN  ...   \n",
       "3          ['W']         Creature — Angel        NaN  ...   \n",
       "4          ['W']                  Sorcery        NaN  ...   \n",
       "\n",
       "                                       foreign_names  \\\n",
       "0  [{'name': 'Ausgewählter der Ahnfrau', 'text': ...   \n",
       "1                                                NaN   \n",
       "2  [{'name': 'Engel der Gnade', 'text': 'Fliegend...   \n",
       "3                                                NaN   \n",
       "4  [{'name': 'Himmlischer Segen', 'text': 'Eine K...   \n",
       "\n",
       "                                           printings  \\\n",
       "0                              ['10E', 'JUD', 'UMA']   \n",
       "1                              ['10E', 'JUD', 'UMA']   \n",
       "2  ['10E', '8ED', '9ED', 'DDC', 'DVD', 'IMA', 'IN...   \n",
       "3  ['10E', '8ED', '9ED', 'DDC', 'DVD', 'IMA', 'IN...   \n",
       "4  ['10E', '9ED', 'EXO', 'P02', 'POR', 'PS11', 'S...   \n",
       "\n",
       "                                       original_text            original_type  \\\n",
       "0  First strike (This creature deals combat damag...  Creature - Human Cleric   \n",
       "1                                                NaN                      NaN   \n",
       "2  Flying (This creature can't be blocked except ...         Creature - Angel   \n",
       "3                                                NaN                      NaN   \n",
       "4  Target creature gets +3/+3 and gains flying un...                  Sorcery   \n",
       "\n",
       "                                          legalities source  \\\n",
       "0  [{'format': 'Commander', 'legality': 'Legal'},...    NaN   \n",
       "1  [{'format': 'Commander', 'legality': 'Legal'},...    NaN   \n",
       "2  [{'format': 'Commander', 'legality': 'Legal'},...    NaN   \n",
       "3  [{'format': 'Commander', 'legality': 'Legal'},...    NaN   \n",
       "4  [{'format': 'Commander', 'legality': 'Legal'},...    NaN   \n",
       "\n",
       "                                           image_url  set       set_name  \\\n",
       "0  http://gatherer.wizards.com/Handlers/Image.ash...  10E  Tenth Edition   \n",
       "1                                                NaN  10E  Tenth Edition   \n",
       "2  http://gatherer.wizards.com/Handlers/Image.ash...  10E  Tenth Edition   \n",
       "3                                                NaN  10E  Tenth Edition   \n",
       "4  http://gatherer.wizards.com/Handlers/Image.ash...  10E  Tenth Edition   \n",
       "\n",
       "                                     id  \n",
       "0  5f8287b1-5bb6-5f4c-ad17-316a40d5bb0c  \n",
       "1  b7c19924-b4bf-56fc-aa73-f586e940bd42  \n",
       "2  57aaebc1-850c-503d-9f6e-bb8d00d8bf7c  \n",
       "3  8fd4e2eb-3eb4-50ea-856b-ef638fa47f8a  \n",
       "4  55bd38ca-dc73-5c06-8f80-a6ddd2f44382  \n",
       "\n",
       "[5 rows x 39 columns]"
      ]
     },
     "metadata": {},
     "output_type": "display_data"
    },
    {
     "name": "stdout",
     "output_type": "stream",
     "text": [
      "*******************************************************\n",
      "Общая информация о датафрейме\n",
      "\n",
      "<class 'pandas.core.frame.DataFrame'>\n",
      "RangeIndex: 66770 entries, 0 to 66769\n",
      "Data columns (total 39 columns):\n",
      " #   Column          Non-Null Count  Dtype  \n",
      "---  ------          --------------  -----  \n",
      " 0   name            66770 non-null  object \n",
      " 1   multiverse_id   47455 non-null  float64\n",
      " 2   layout          66770 non-null  object \n",
      " 3   names           0 non-null      float64\n",
      " 4   mana_cost       58100 non-null  object \n",
      " 5   cmc             66770 non-null  float64\n",
      " 6   colors          52612 non-null  object \n",
      " 7   color_identity  59739 non-null  object \n",
      " 8   type            66770 non-null  object \n",
      " 9   supertypes      9912 non-null   object \n",
      " 10  subtypes        40903 non-null  object \n",
      " 11  rarity          66770 non-null  object \n",
      " 12  text            65805 non-null  object \n",
      " 13  flavor          34412 non-null  object \n",
      " 14  artist          66759 non-null  object \n",
      " 15  number          66770 non-null  object \n",
      " 16  power           31332 non-null  object \n",
      " 17  toughness       31332 non-null  object \n",
      " 18  loyalty         1075 non-null   object \n",
      " 19  variations      12590 non-null  object \n",
      " 20  watermark       5110 non-null   object \n",
      " 21  border          0 non-null      float64\n",
      " 22  timeshifted     0 non-null      float64\n",
      " 23  hand            119 non-null    float64\n",
      " 24  life            119 non-null    float64\n",
      " 25  reserved        0 non-null      float64\n",
      " 26  release_date    0 non-null      float64\n",
      " 27  starter         0 non-null      float64\n",
      " 28  rulings         37243 non-null  object \n",
      " 29  foreign_names   41285 non-null  object \n",
      " 30  printings       66770 non-null  object \n",
      " 31  original_text   46485 non-null  object \n",
      " 32  original_type   47435 non-null  object \n",
      " 33  legalities      65380 non-null  object \n",
      " 34  source          0 non-null      float64\n",
      " 35  image_url       47455 non-null  object \n",
      " 36  set             66770 non-null  object \n",
      " 37  set_name        66770 non-null  object \n",
      " 38  id              66770 non-null  object \n",
      "dtypes: float64(11), object(28)\n",
      "memory usage: 19.9+ MB\n",
      "None\n",
      "*******************************************************\n",
      "Дубликаты: 0\n",
      "*******************************************************\n",
      "Пропуски: name                  0\n",
      "multiverse_id     19315\n",
      "layout                0\n",
      "names             66770\n",
      "mana_cost          8670\n",
      "cmc                   0\n",
      "colors            14158\n",
      "color_identity     7031\n",
      "type                  0\n",
      "supertypes        56858\n",
      "subtypes          25867\n",
      "rarity                0\n",
      "text                965\n",
      "flavor            32358\n",
      "artist               11\n",
      "number                0\n",
      "power             35438\n",
      "toughness         35438\n",
      "loyalty           65695\n",
      "variations        54180\n",
      "watermark         61660\n",
      "border            66770\n",
      "timeshifted       66770\n",
      "hand              66651\n",
      "life              66651\n",
      "reserved          66770\n",
      "release_date      66770\n",
      "starter           66770\n",
      "rulings           29527\n",
      "foreign_names     25485\n",
      "printings             0\n",
      "original_text     20285\n",
      "original_type     19335\n",
      "legalities         1390\n",
      "source            66770\n",
      "image_url         19315\n",
      "set                   0\n",
      "set_name              0\n",
      "id                    0\n",
      "dtype: int64\n"
     ]
    }
   ],
   "source": [
    "open_info(df)"
   ]
  },
  {
   "cell_type": "markdown",
   "id": "a4e3a6db",
   "metadata": {
    "papermill": {
     "duration": 0.009307,
     "end_time": "2022-06-16T12:03:49.084429",
     "exception": false,
     "start_time": "2022-06-16T12:03:49.075122",
     "status": "completed"
    },
    "tags": []
   },
   "source": [
    "<div class=\"alert alert-success\">\n",
    "В датафрейме 39 столбцов и 66770 строк. В нем отражена информация о каждой выпущенной карте: цвет, тип, ее функция, сет, id и т.п. Есть пропуски в столбцах multiverse_id, names, mana_cost, colors, color_identity, supertypes и т.д. Где-то пропуски оказываются значимыми, где-то, возможно, они связаны с ошибками в выгрузке данных. В работе используются, как правило столбцы без пропусков либо столбцы, где отсуствие значения значимо. Например, color_identity, в котором отсутсвие указания на цвет можно считать знаком того, что карта бесцветна. Дубликатов нет. Есть большое количество строк, в которых информация практически совпадает, но в этих случаях различаются id и номера сетов."
   ]
  },
  {
   "cell_type": "markdown",
   "id": "fdb5ab3d",
   "metadata": {
    "papermill": {
     "duration": 0.009299,
     "end_time": "2022-06-16T12:03:49.103299",
     "exception": false,
     "start_time": "2022-06-16T12:03:49.094000",
     "status": "completed"
    },
    "tags": []
   },
   "source": [
    "## Распределение карт по цвету в зависимости от редкости."
   ]
  },
  {
   "cell_type": "code",
   "execution_count": 5,
   "id": "4368bbc8",
   "metadata": {
    "execution": {
     "iopub.execute_input": "2022-06-16T12:03:49.124489Z",
     "iopub.status.busy": "2022-06-16T12:03:49.123864Z",
     "iopub.status.idle": "2022-06-16T12:03:49.140802Z",
     "shell.execute_reply": "2022-06-16T12:03:49.139799Z"
    },
    "id": "rPvlFTicZ45a",
    "outputId": "4cf712ac-5b1a-4bc7-8a7a-9d2d6388bc79",
    "papermill": {
     "duration": 0.029969,
     "end_time": "2022-06-16T12:03:49.142903",
     "exception": false,
     "start_time": "2022-06-16T12:03:49.112934",
     "status": "completed"
    },
    "tags": []
   },
   "outputs": [
    {
     "data": {
      "text/plain": [
       "['Green']                                     9416\n",
       "['Black']                                     9167\n",
       "['Red']                                       9117\n",
       "['White']                                     9007\n",
       "['Blue']                                      8919\n",
       "['Green', 'White']                             622\n",
       "['Green', 'Red']                               611\n",
       "['Black', 'Blue']                              595\n",
       "['Blue', 'White']                              591\n",
       "['Black', 'Red']                               590\n",
       "['Black', 'Green']                             564\n",
       "['Green', 'Blue']                              541\n",
       "['Black', 'White']                             526\n",
       "['Red', 'White']                               510\n",
       "['Red', 'Blue']                                507\n",
       "['Black', 'Red', 'Blue']                       169\n",
       "['Green', 'Red', 'White']                      137\n",
       "['Black', 'Blue', 'White']                     133\n",
       "['Green', 'Blue', 'White']                     133\n",
       "['Black', 'Green', 'Red']                      128\n",
       "['Black', 'Green', 'Red', 'Blue', 'White']     101\n",
       "['Black', 'Red', 'White']                       94\n",
       "['Black', 'Green', 'Blue']                      80\n",
       "['Red', 'Blue', 'White']                        77\n",
       "['Black', 'Green', 'White']                     76\n",
       "['Green', 'Red', 'Blue']                        70\n",
       "['White', 'Green']                              17\n",
       "['Blue', 'Black']                               13\n",
       "['White', 'Red']                                12\n",
       "['Blue', 'Red']                                 12\n",
       "['Black', 'Green', 'Blue', 'White']             11\n",
       "['White', 'Blue']                               11\n",
       "['Green', 'Red', 'Blue', 'White']               10\n",
       "['Blue', 'Green']                               10\n",
       "['Black', 'Red', 'Blue', 'White']                8\n",
       "['Red', 'Green']                                 8\n",
       "['White', 'Black']                               7\n",
       "['Black', 'Green', 'Red', 'White']               6\n",
       "['Black', 'Green', 'Red', 'Blue']                6\n",
       "Name: colors, dtype: int64"
      ]
     },
     "execution_count": 5,
     "metadata": {},
     "output_type": "execute_result"
    }
   ],
   "source": [
    "# вывод количества значений столбца с цветом карт\n",
    "df['colors'].value_counts()"
   ]
  },
  {
   "cell_type": "code",
   "execution_count": 6,
   "id": "eac303ce",
   "metadata": {
    "execution": {
     "iopub.execute_input": "2022-06-16T12:03:49.164118Z",
     "iopub.status.busy": "2022-06-16T12:03:49.163701Z",
     "iopub.status.idle": "2022-06-16T12:03:49.182178Z",
     "shell.execute_reply": "2022-06-16T12:03:49.181279Z"
    },
    "id": "ZC5qHTXGdEpL",
    "outputId": "d9c1e4ad-4fd0-428b-a403-ae7fa6a82808",
    "papermill": {
     "duration": 0.031448,
     "end_time": "2022-06-16T12:03:49.184092",
     "exception": false,
     "start_time": "2022-06-16T12:03:49.152644",
     "status": "completed"
    },
    "tags": []
   },
   "outputs": [
    {
     "data": {
      "text/plain": [
       "['B', 'G', 'R', 'U']             6\n",
       "['B', 'G', 'R', 'W']             6\n",
       "['B', 'R', 'U', 'W']             8\n",
       "['G', 'R', 'U', 'W']            10\n",
       "['B', 'G', 'U', 'W']            11\n",
       "['G', 'R', 'U']                 99\n",
       "['R', 'U', 'W']                108\n",
       "['B', 'G', 'W']                111\n",
       "['B', 'G', 'U']                125\n",
       "['B', 'R', 'W']                140\n",
       "['B', 'U', 'W']                171\n",
       "['B', 'G', 'R']                184\n",
       "['G', 'R', 'W']                185\n",
       "['G', 'U', 'W']                187\n",
       "['B', 'G', 'R', 'U', 'W']      214\n",
       "['B', 'R', 'U']                221\n",
       "['B', 'W']                     781\n",
       "['R', 'U']                     792\n",
       "['G', 'U']                     799\n",
       "['R', 'W']                     811\n",
       "['B', 'G']                     858\n",
       "['U', 'W']                     893\n",
       "['B', 'U']                     902\n",
       "['B', 'R']                     904\n",
       "['G', 'R']                     912\n",
       "['G', 'W']                     939\n",
       "['W']                         9685\n",
       "['U']                         9709\n",
       "['R']                         9841\n",
       "['B']                         9954\n",
       "['G']                        10173\n",
       "Name: color_identity, dtype: int64"
      ]
     },
     "execution_count": 6,
     "metadata": {},
     "output_type": "execute_result"
    }
   ],
   "source": [
    "# вывод количества идентификаторов цвета карт и его сортировка\n",
    "df['color_identity'].value_counts().sort_values()"
   ]
  },
  {
   "cell_type": "code",
   "execution_count": 7,
   "id": "04b2904b",
   "metadata": {
    "execution": {
     "iopub.execute_input": "2022-06-16T12:03:49.206306Z",
     "iopub.status.busy": "2022-06-16T12:03:49.205347Z",
     "iopub.status.idle": "2022-06-16T12:03:49.677054Z",
     "shell.execute_reply": "2022-06-16T12:03:49.675950Z"
    },
    "id": "ylzdSBfTwiX9",
    "outputId": "9a8c1541-4482-4a8f-bd90-20e5b61ee1a9",
    "papermill": {
     "duration": 0.484963,
     "end_time": "2022-06-16T12:03:49.679177",
     "exception": false,
     "start_time": "2022-06-16T12:03:49.194214",
     "status": "completed"
    },
    "tags": []
   },
   "outputs": [
    {
     "data": {
      "image/png": "[encoded data removed]",
      "text/plain": [
       "<Figure size 720x720 with 1 Axes>"
      ]
     },
     "metadata": {
      "needs_background": "light"
     },
     "output_type": "display_data"
    }
   ],
   "source": [
    "# сводная таблица\n",
    "df_color = df.pivot_table(index = 'color_identity', values = 'name', aggfunc = ['count'])\n",
    "df_color.columns = ['count']\n",
    "\n",
    "# диаграмма\n",
    "fig, ax = plt.subplots(figsize=(10, 10))\n",
    "sns.barplot(data=df_color, y = df_color.index, x = 'count')\n",
    "plt.xlabel('Кол-во карт', fontsize=12)\n",
    "plt.ylabel('Цвета карт', fontsize=12)\n",
    "plt.title('Распределение количества карт по цвету', fontsize=17);"
   ]
  },
  {
   "cell_type": "code",
   "execution_count": 8,
   "id": "ad8735de",
   "metadata": {
    "execution": {
     "iopub.execute_input": "2022-06-16T12:03:49.702402Z",
     "iopub.status.busy": "2022-06-16T12:03:49.701995Z",
     "iopub.status.idle": "2022-06-16T12:03:50.339317Z",
     "shell.execute_reply": "2022-06-16T12:03:50.338166Z"
    },
    "id": "odORn8hFyOAw",
    "outputId": "5960c237-a1df-41e0-82e3-b681e860f0ae",
    "papermill": {
     "duration": 0.651552,
     "end_time": "2022-06-16T12:03:50.341569",
     "exception": false,
     "start_time": "2022-06-16T12:03:49.690017",
     "status": "completed"
    },
    "tags": []
   },
   "outputs": [
    {
     "data": {
      "text/html": [
       "<div>\n",
       "<style scoped>\n",
       "    .dataframe tbody tr th:only-of-type {\n",
       "        vertical-align: middle;\n",
       "    }\n",
       "\n",
       "    .dataframe tbody tr th {\n",
       "        vertical-align: top;\n",
       "    }\n",
       "\n",
       "    .dataframe thead th {\n",
       "        text-align: right;\n",
       "    }\n",
       "</style>\n",
       "<table border=\"1\" class=\"dataframe\">\n",
       "  <thead>\n",
       "    <tr style=\"text-align: right;\">\n",
       "      <th></th>\n",
       "      <th>name</th>\n",
       "      <th>multiverse_id</th>\n",
       "      <th>layout</th>\n",
       "      <th>names</th>\n",
       "      <th>mana_cost</th>\n",
       "      <th>cmc</th>\n",
       "      <th>colors</th>\n",
       "      <th>color_identity</th>\n",
       "      <th>type</th>\n",
       "      <th>supertypes</th>\n",
       "      <th>...</th>\n",
       "      <th>printings</th>\n",
       "      <th>original_text</th>\n",
       "      <th>original_type</th>\n",
       "      <th>legalities</th>\n",
       "      <th>source</th>\n",
       "      <th>image_url</th>\n",
       "      <th>set</th>\n",
       "      <th>set_name</th>\n",
       "      <th>id</th>\n",
       "      <th>color_id</th>\n",
       "    </tr>\n",
       "  </thead>\n",
       "  <tbody>\n",
       "    <tr>\n",
       "      <th>0</th>\n",
       "      <td>Ancestor's Chosen</td>\n",
       "      <td>130550.0</td>\n",
       "      <td>normal</td>\n",
       "      <td>NaN</td>\n",
       "      <td>{5}{W}{W}</td>\n",
       "      <td>7.0</td>\n",
       "      <td>['White']</td>\n",
       "      <td>['W']</td>\n",
       "      <td>Creature — Human Cleric</td>\n",
       "      <td>NaN</td>\n",
       "      <td>...</td>\n",
       "      <td>['10E', 'JUD', 'UMA']</td>\n",
       "      <td>First strike (This creature deals combat damag...</td>\n",
       "      <td>Creature - Human Cleric</td>\n",
       "      <td>[{'format': 'Commander', 'legality': 'Legal'},...</td>\n",
       "      <td>NaN</td>\n",
       "      <td>http://gatherer.wizards.com/Handlers/Image.ash...</td>\n",
       "      <td>10E</td>\n",
       "      <td>Tenth Edition</td>\n",
       "      <td>5f8287b1-5bb6-5f4c-ad17-316a40d5bb0c</td>\n",
       "      <td>W</td>\n",
       "    </tr>\n",
       "    <tr>\n",
       "      <th>1</th>\n",
       "      <td>Ancestor's Chosen</td>\n",
       "      <td>NaN</td>\n",
       "      <td>normal</td>\n",
       "      <td>NaN</td>\n",
       "      <td>{5}{W}{W}</td>\n",
       "      <td>7.0</td>\n",
       "      <td>['White']</td>\n",
       "      <td>['W']</td>\n",
       "      <td>Creature — Human Cleric</td>\n",
       "      <td>NaN</td>\n",
       "      <td>...</td>\n",
       "      <td>['10E', 'JUD', 'UMA']</td>\n",
       "      <td>NaN</td>\n",
       "      <td>NaN</td>\n",
       "      <td>[{'format': 'Commander', 'legality': 'Legal'},...</td>\n",
       "      <td>NaN</td>\n",
       "      <td>NaN</td>\n",
       "      <td>10E</td>\n",
       "      <td>Tenth Edition</td>\n",
       "      <td>b7c19924-b4bf-56fc-aa73-f586e940bd42</td>\n",
       "      <td>W</td>\n",
       "    </tr>\n",
       "  </tbody>\n",
       "</table>\n",
       "<p>2 rows × 40 columns</p>\n",
       "</div>"
      ],
      "text/plain": [
       "                name  multiverse_id  layout  names  mana_cost  cmc     colors  \\\n",
       "0  Ancestor's Chosen       130550.0  normal    NaN  {5}{W}{W}  7.0  ['White']   \n",
       "1  Ancestor's Chosen            NaN  normal    NaN  {5}{W}{W}  7.0  ['White']   \n",
       "\n",
       "  color_identity                     type supertypes  ...  \\\n",
       "0          ['W']  Creature — Human Cleric        NaN  ...   \n",
       "1          ['W']  Creature — Human Cleric        NaN  ...   \n",
       "\n",
       "               printings                                      original_text  \\\n",
       "0  ['10E', 'JUD', 'UMA']  First strike (This creature deals combat damag...   \n",
       "1  ['10E', 'JUD', 'UMA']                                                NaN   \n",
       "\n",
       "             original_type                                         legalities  \\\n",
       "0  Creature - Human Cleric  [{'format': 'Commander', 'legality': 'Legal'},...   \n",
       "1                      NaN  [{'format': 'Commander', 'legality': 'Legal'},...   \n",
       "\n",
       "  source                                          image_url  set  \\\n",
       "0    NaN  http://gatherer.wizards.com/Handlers/Image.ash...  10E   \n",
       "1    NaN                                                NaN  10E   \n",
       "\n",
       "        set_name                                    id color_id  \n",
       "0  Tenth Edition  5f8287b1-5bb6-5f4c-ad17-316a40d5bb0c        W  \n",
       "1  Tenth Edition  b7c19924-b4bf-56fc-aa73-f586e940bd42        W  \n",
       "\n",
       "[2 rows x 40 columns]"
      ]
     },
     "metadata": {},
     "output_type": "display_data"
    },
    {
     "data": {
      "text/plain": [
       "multi        10377\n",
       "G            10173\n",
       "B             9954\n",
       "R             9841\n",
       "U             9709\n",
       "W             9685\n",
       "colorless     7031\n",
       "Name: color_id, dtype: int64"
      ]
     },
     "execution_count": 8,
     "metadata": {},
     "output_type": "execute_result"
    }
   ],
   "source": [
    "# создание нового столбца с обозначениями цветов\n",
    "df[\"color_id\"] = df[\"color_identity\"].apply(str)\n",
    "df[\"color_id\"] = df[\"color_id\"].apply(lambda x: \"[]\" if x == \"nan\" else x)\n",
    "\n",
    "def color_to_category(x):\n",
    "    try:\n",
    "        size = len(x)\n",
    "        if(size == 0):\n",
    "            return \"colorless\"\n",
    "        elif(size == 1):\n",
    "            return x[0]\n",
    "        else:\n",
    "            return \"multi\"\n",
    "    except:\n",
    "        return \"colorless\"\n",
    "\n",
    "df[\"color_id\"] = df[\"color_id\"].apply(eval)\n",
    "df[\"color_id\"] = df[\"color_id\"].apply(color_to_category)\n",
    "\n",
    "# проверка\n",
    "display(df.head(2))\n",
    "df[\"color_id\"].value_counts()"
   ]
  },
  {
   "cell_type": "code",
   "execution_count": 9,
   "id": "3aaf4ac1",
   "metadata": {
    "execution": {
     "iopub.execute_input": "2022-06-16T12:03:50.367300Z",
     "iopub.status.busy": "2022-06-16T12:03:50.366197Z",
     "iopub.status.idle": "2022-06-16T12:03:50.591028Z",
     "shell.execute_reply": "2022-06-16T12:03:50.590092Z"
    },
    "id": "Bl7Jb9-s761y",
    "outputId": "69f860ba-03d0-465b-907f-169f4c880a2e",
    "papermill": {
     "duration": 0.239869,
     "end_time": "2022-06-16T12:03:50.593199",
     "exception": false,
     "start_time": "2022-06-16T12:03:50.353330",
     "status": "completed"
    },
    "tags": []
   },
   "outputs": [
    {
     "data": {
      "text/html": [
       "        <script type=\"text/javascript\">\n",
       "        window.PlotlyConfig = {MathJaxConfig: 'local'};\n",
       "        if (window.MathJax && window.MathJax.Hub && window.MathJax.Hub.Config) {window.MathJax.Hub.Config({SVG: {font: \"STIX-Web\"}});}\n",
       "        if (typeof require !== 'undefined') {\n",
       "        require.undef(\"plotly\");\n",
       "        requirejs.config({\n",
       "            paths: {\n",
       "                'plotly': ['https://cdn.plot.ly/plotly-2.12.1.min']\n",
       "            }\n",
       "        });\n",
       "        require(['plotly'], function(Plotly) {\n",
       "            window._Plotly = Plotly;\n",
       "        });\n",
       "        }\n",
       "        </script>\n",
       "        "
      ]
     },
     "metadata": {},
     "output_type": "display_data"
    },
    {
     "data": {
      "text/html": [
       "<div>                            <div id=\"59907b56-f2cc-4634-96a5-96e5c878b278\" class=\"plotly-graph-div\" style=\"height:525px; width:100%;\"></div>            <script type=\"text/javascript\">                require([\"plotly\"], function(Plotly) {                    window.PLOTLYENV=window.PLOTLYENV || {};                                    if (document.getElementById(\"59907b56-f2cc-4634-96a5-96e5c878b278\")) {                    Plotly.newPlot(                        \"59907b56-f2cc-4634-96a5-96e5c878b278\",                        [{\"labels\":[\"B\",\"G\",\"R\",\"U\",\"W\",\"colorless\",\"multi\"],\"values\":[9954,10173,9841,9709,9685,7031,10377],\"type\":\"pie\"}],                        {\"template\":{\"data\":{\"histogram2dcontour\":[{\"type\":\"histogram2dcontour\",\"colorbar\":{\"outlinewidth\":0,\"ticks\":\"\"},\"colorscale\":[[0.0,\"#0d0887\"],[0.1111111111111111,\"#46039f\"],[0.2222222222222222,\"#7201a8\"],[0.3333333333333333,\"#9c179e\"],[0.4444444444444444,\"#bd3786\"],[0.5555555555555556,\"#d8576b\"],[0.6666666666666666,\"#ed7953\"],[0.7777777777777778,\"#fb9f3a\"],[0.8888888888888888,\"#fdca26\"],[1.0,\"#f0f921\"]]}],\"choropleth\":[{\"type\":\"choropleth\",\"colorbar\":{\"outlinewidth\":0,\"ticks\":\"\"}}],\"histogram2d\":[{\"type\":\"histogram2d\",\"colorbar\":{\"outlinewidth\":0,\"ticks\":\"\"},\"colorscale\":[[0.0,\"#0d0887\"],[0.1111111111111111,\"#46039f\"],[0.2222222222222222,\"#7201a8\"],[0.3333333333333333,\"#9c179e\"],[0.4444444444444444,\"#bd3786\"],[0.5555555555555556,\"#d8576b\"],[0.6666666666666666,\"#ed7953\"],[0.7777777777777778,\"#fb9f3a\"],[0.8888888888888888,\"#fdca26\"],[1.0,\"#f0f921\"]]}],\"heatmap\":[{\"type\":\"heatmap\",\"colorbar\":{\"outlinewidth\":0,\"ticks\":\"\"},\"colorscale\":[[0.0,\"#0d0887\"],[0.1111111111111111,\"#46039f\"],[0.2222222222222222,\"#7201a8\"],[0.3333333333333333,\"#9c179e\"],[0.4444444444444444,\"#bd3786\"],[0.5555555555555556,\"#d8576b\"],[0.6666666666666666,\"#ed7953\"],[0.7777777777777778,\"#fb9f3a\"],[0.8888888888888888,\"#fdca26\"],[1.0,\"#f0f921\"]]}],\"heatmapgl\":[{\"type\":\"heatmapgl\",\"colorbar\":{\"outlinewidth\":0,\"ticks\":\"\"},\"colorscale\":[[0.0,\"#0d0887\"],[0.1111111111111111,\"#46039f\"],[0.2222222222222222,\"#7201a8\"],[0.3333333333333333,\"#9c179e\"],[0.4444444444444444,\"#bd3786\"],[0.5555555555555556,\"#d8576b\"],[0.6666666666666666,\"#ed7953\"],[0.7777777777777778,\"#fb9f3a\"],[0.8888888888888888,\"#fdca26\"],[1.0,\"#f0f921\"]]}],\"contourcarpet\":[{\"type\":\"contourcarpet\",\"colorbar\":{\"outlinewidth\":0,\"ticks\":\"\"}}],\"contour\":[{\"type\":\"contour\",\"colorbar\":{\"outlinewidth\":0,\"ticks\":\"\"},\"colorscale\":[[0.0,\"#0d0887\"],[0.1111111111111111,\"#46039f\"],[0.2222222222222222,\"#7201a8\"],[0.3333333333333333,\"#9c179e\"],[0.4444444444444444,\"#bd3786\"],[0.5555555555555556,\"#d8576b\"],[0.6666666666666666,\"#ed7953\"],[0.7777777777777778,\"#fb9f3a\"],[0.8888888888888888,\"#fdca26\"],[1.0,\"#f0f921\"]]}],\"surface\":[{\"type\":\"surface\",\"colorbar\":{\"outlinewidth\":0,\"ticks\":\"\"},\"colorscale\":[[0.0,\"#0d0887\"],[0.1111111111111111,\"#46039f\"],[0.2222222222222222,\"#7201a8\"],[0.3333333333333333,\"#9c179e\"],[0.4444444444444444,\"#bd3786\"],[0.5555555555555556,\"#d8576b\"],[0.6666666666666666,\"#ed7953\"],[0.7777777777777778,\"#fb9f3a\"],[0.8888888888888888,\"#fdca26\"],[1.0,\"#f0f921\"]]}],\"mesh3d\":[{\"type\":\"mesh3d\",\"colorbar\":{\"outlinewidth\":0,\"ticks\":\"\"}}],\"scatter\":[{\"fillpattern\":{\"fillmode\":\"overlay\",\"size\":10,\"solidity\":0.2},\"type\":\"scatter\"}],\"parcoords\":[{\"type\":\"parcoords\",\"line\":{\"colorbar\":{\"outlinewidth\":0,\"ticks\":\"\"}}}],\"scatterpolargl\":[{\"type\":\"scatterpolargl\",\"marker\":{\"colorbar\":{\"outlinewidth\":0,\"ticks\":\"\"}}}],\"bar\":[{\"error_x\":{\"color\":\"#2a3f5f\"},\"error_y\":{\"color\":\"#2a3f5f\"},\"marker\":{\"line\":{\"color\":\"#E5ECF6\",\"width\":0.5},\"pattern\":{\"fillmode\":\"overlay\",\"size\":10,\"solidity\":0.2}},\"type\":\"bar\"}],\"scattergeo\":[{\"type\":\"scattergeo\",\"marker\":{\"colorbar\":{\"outlinewidth\":0,\"ticks\":\"\"}}}],\"scatterpolar\":[{\"type\":\"scatterpolar\",\"marker\":{\"colorbar\":{\"outlinewidth\":0,\"ticks\":\"\"}}}],\"histogram\":[{\"marker\":{\"pattern\":{\"fillmode\":\"overlay\",\"size\":10,\"solidity\":0.2}},\"type\":\"histogram\"}],\"scattergl\":[{\"type\":\"scattergl\",\"marker\":{\"colorbar\":{\"outlinewidth\":0,\"ticks\":\"\"}}}],\"scatter3d\":[{\"type\":\"scatter3d\",\"line\":{\"colorbar\":{\"outlinewidth\":0,\"ticks\":\"\"}},\"marker\":{\"colorbar\":{\"outlinewidth\":0,\"ticks\":\"\"}}}],\"scattermapbox\":[{\"type\":\"scattermapbox\",\"marker\":{\"colorbar\":{\"outlinewidth\":0,\"ticks\":\"\"}}}],\"scatterternary\":[{\"type\":\"scatterternary\",\"marker\":{\"colorbar\":{\"outlinewidth\":0,\"ticks\":\"\"}}}],\"scattercarpet\":[{\"type\":\"scattercarpet\",\"marker\":{\"colorbar\":{\"outlinewidth\":0,\"ticks\":\"\"}}}],\"carpet\":[{\"aaxis\":{\"endlinecolor\":\"#2a3f5f\",\"gridcolor\":\"white\",\"linecolor\":\"white\",\"minorgridcolor\":\"white\",\"startlinecolor\":\"#2a3f5f\"},\"baxis\":{\"endlinecolor\":\"#2a3f5f\",\"gridcolor\":\"white\",\"linecolor\":\"white\",\"minorgridcolor\":\"white\",\"startlinecolor\":\"#2a3f5f\"},\"type\":\"carpet\"}],\"table\":[{\"cells\":{\"fill\":{\"color\":\"#EBF0F8\"},\"line\":{\"color\":\"white\"}},\"header\":{\"fill\":{\"color\":\"#C8D4E3\"},\"line\":{\"color\":\"white\"}},\"type\":\"table\"}],\"barpolar\":[{\"marker\":{\"line\":{\"color\":\"#E5ECF6\",\"width\":0.5},\"pattern\":{\"fillmode\":\"overlay\",\"size\":10,\"solidity\":0.2}},\"type\":\"barpolar\"}],\"pie\":[{\"automargin\":true,\"type\":\"pie\"}]},\"layout\":{\"autotypenumbers\":\"strict\",\"colorway\":[\"#636efa\",\"#EF553B\",\"#00cc96\",\"#ab63fa\",\"#FFA15A\",\"#19d3f3\",\"#FF6692\",\"#B6E880\",\"#FF97FF\",\"#FECB52\"],\"font\":{\"color\":\"#2a3f5f\"},\"hovermode\":\"closest\",\"hoverlabel\":{\"align\":\"left\"},\"paper_bgcolor\":\"white\",\"plot_bgcolor\":\"#E5ECF6\",\"polar\":{\"bgcolor\":\"#E5ECF6\",\"angularaxis\":{\"gridcolor\":\"white\",\"linecolor\":\"white\",\"ticks\":\"\"},\"radialaxis\":{\"gridcolor\":\"white\",\"linecolor\":\"white\",\"ticks\":\"\"}},\"ternary\":{\"bgcolor\":\"#E5ECF6\",\"aaxis\":{\"gridcolor\":\"white\",\"linecolor\":\"white\",\"ticks\":\"\"},\"baxis\":{\"gridcolor\":\"white\",\"linecolor\":\"white\",\"ticks\":\"\"},\"caxis\":{\"gridcolor\":\"white\",\"linecolor\":\"white\",\"ticks\":\"\"}},\"coloraxis\":{\"colorbar\":{\"outlinewidth\":0,\"ticks\":\"\"}},\"colorscale\":{\"sequential\":[[0.0,\"#0d0887\"],[0.1111111111111111,\"#46039f\"],[0.2222222222222222,\"#7201a8\"],[0.3333333333333333,\"#9c179e\"],[0.4444444444444444,\"#bd3786\"],[0.5555555555555556,\"#d8576b\"],[0.6666666666666666,\"#ed7953\"],[0.7777777777777778,\"#fb9f3a\"],[0.8888888888888888,\"#fdca26\"],[1.0,\"#f0f921\"]],\"sequentialminus\":[[0.0,\"#0d0887\"],[0.1111111111111111,\"#46039f\"],[0.2222222222222222,\"#7201a8\"],[0.3333333333333333,\"#9c179e\"],[0.4444444444444444,\"#bd3786\"],[0.5555555555555556,\"#d8576b\"],[0.6666666666666666,\"#ed7953\"],[0.7777777777777778,\"#fb9f3a\"],[0.8888888888888888,\"#fdca26\"],[1.0,\"#f0f921\"]],\"diverging\":[[0,\"#8e0152\"],[0.1,\"#c51b7d\"],[0.2,\"#de77ae\"],[0.3,\"#f1b6da\"],[0.4,\"#fde0ef\"],[0.5,\"#f7f7f7\"],[0.6,\"#e6f5d0\"],[0.7,\"#b8e186\"],[0.8,\"#7fbc41\"],[0.9,\"#4d9221\"],[1,\"#276419\"]]},\"xaxis\":{\"gridcolor\":\"white\",\"linecolor\":\"white\",\"ticks\":\"\",\"title\":{\"standoff\":15},\"zerolinecolor\":\"white\",\"automargin\":true,\"zerolinewidth\":2},\"yaxis\":{\"gridcolor\":\"white\",\"linecolor\":\"white\",\"ticks\":\"\",\"title\":{\"standoff\":15},\"zerolinecolor\":\"white\",\"automargin\":true,\"zerolinewidth\":2},\"scene\":{\"xaxis\":{\"backgroundcolor\":\"#E5ECF6\",\"gridcolor\":\"white\",\"linecolor\":\"white\",\"showbackground\":true,\"ticks\":\"\",\"zerolinecolor\":\"white\",\"gridwidth\":2},\"yaxis\":{\"backgroundcolor\":\"#E5ECF6\",\"gridcolor\":\"white\",\"linecolor\":\"white\",\"showbackground\":true,\"ticks\":\"\",\"zerolinecolor\":\"white\",\"gridwidth\":2},\"zaxis\":{\"backgroundcolor\":\"#E5ECF6\",\"gridcolor\":\"white\",\"linecolor\":\"white\",\"showbackground\":true,\"ticks\":\"\",\"zerolinecolor\":\"white\",\"gridwidth\":2}},\"shapedefaults\":{\"line\":{\"color\":\"#2a3f5f\"}},\"annotationdefaults\":{\"arrowcolor\":\"#2a3f5f\",\"arrowhead\":0,\"arrowwidth\":1},\"geo\":{\"bgcolor\":\"white\",\"landcolor\":\"#E5ECF6\",\"subunitcolor\":\"white\",\"showland\":true,\"showlakes\":true,\"lakecolor\":\"white\"},\"title\":{\"x\":0.05},\"mapbox\":{\"style\":\"light\"}}},\"title\":{\"text\":\"Распределение количества карт по цвету\"}},                        {\"responsive\": true}                    ).then(function(){\n",
       "                            \n",
       "var gd = document.getElementById('59907b56-f2cc-4634-96a5-96e5c878b278');\n",
       "var x = new MutationObserver(function (mutations, observer) {{\n",
       "        var display = window.getComputedStyle(gd).display;\n",
       "        if (!display || display === 'none') {{\n",
       "            console.log([gd, 'removed!']);\n",
       "            Plotly.purge(gd);\n",
       "            observer.disconnect();\n",
       "        }}\n",
       "}});\n",
       "\n",
       "// Listen for the removal of the full notebook cells\n",
       "var notebookContainer = gd.closest('#notebook-container');\n",
       "if (notebookContainer) {{\n",
       "    x.observe(notebookContainer, {childList: true});\n",
       "}}\n",
       "\n",
       "// Listen for the clearing of the current output cell\n",
       "var outputEl = gd.closest('.output');\n",
       "if (outputEl) {{\n",
       "    x.observe(outputEl, {childList: true});\n",
       "}}\n",
       "\n",
       "                        })                };                });            </script>        </div>"
      ]
     },
     "metadata": {},
     "output_type": "display_data"
    }
   ],
   "source": [
    "# сводная таблица\n",
    "color = df.pivot_table(index = 'color_id', values = 'name', aggfunc = ['count'])\n",
    "color.columns = ['count']\n",
    "\n",
    "# диаграмма\n",
    "# вариант 1\n",
    "fig = go.Figure(data=[go.Pie(labels=color.index.to_list(), values=color['count'].to_list())])\n",
    "fig.update_layout(title=\"Распределение количества карт по цвету\")\n",
    "fig.show()"
   ]
  },
  {
   "cell_type": "code",
   "execution_count": 10,
   "id": "c02305ae",
   "metadata": {
    "execution": {
     "iopub.execute_input": "2022-06-16T12:03:50.618427Z",
     "iopub.status.busy": "2022-06-16T12:03:50.618054Z",
     "iopub.status.idle": "2022-06-16T12:03:52.577747Z",
     "shell.execute_reply": "2022-06-16T12:03:52.576785Z"
    },
    "id": "0MwDSVvB7g4S",
    "outputId": "b7071123-f11e-4dda-9fa6-fc553d3f7133",
    "papermill": {
     "duration": 1.976146,
     "end_time": "2022-06-16T12:03:52.581311",
     "exception": false,
     "start_time": "2022-06-16T12:03:50.605165",
     "status": "completed"
    },
    "tags": []
   },
   "outputs": [
    {
     "data": {
      "text/html": [
       "<div>\n",
       "<style scoped>\n",
       "    .dataframe tbody tr th:only-of-type {\n",
       "        vertical-align: middle;\n",
       "    }\n",
       "\n",
       "    .dataframe tbody tr th {\n",
       "        vertical-align: top;\n",
       "    }\n",
       "\n",
       "    .dataframe thead th {\n",
       "        text-align: right;\n",
       "    }\n",
       "</style>\n",
       "<table border=\"1\" class=\"dataframe\">\n",
       "  <thead>\n",
       "    <tr style=\"text-align: right;\">\n",
       "      <th>rarity</th>\n",
       "      <th>Bonus</th>\n",
       "      <th>Common</th>\n",
       "      <th>Mythic</th>\n",
       "      <th>Rare</th>\n",
       "      <th>Special</th>\n",
       "      <th>Uncommon</th>\n",
       "    </tr>\n",
       "    <tr>\n",
       "      <th>color_id</th>\n",
       "      <th></th>\n",
       "      <th></th>\n",
       "      <th></th>\n",
       "      <th></th>\n",
       "      <th></th>\n",
       "      <th></th>\n",
       "    </tr>\n",
       "  </thead>\n",
       "  <tbody>\n",
       "    <tr>\n",
       "      <th>B</th>\n",
       "      <td>1.0</td>\n",
       "      <td>3981.0</td>\n",
       "      <td>534.0</td>\n",
       "      <td>2969.0</td>\n",
       "      <td>34.0</td>\n",
       "      <td>2435.0</td>\n",
       "    </tr>\n",
       "    <tr>\n",
       "      <th>G</th>\n",
       "      <td>1.0</td>\n",
       "      <td>4156.0</td>\n",
       "      <td>450.0</td>\n",
       "      <td>3040.0</td>\n",
       "      <td>35.0</td>\n",
       "      <td>2491.0</td>\n",
       "    </tr>\n",
       "    <tr>\n",
       "      <th>R</th>\n",
       "      <td>1.0</td>\n",
       "      <td>3885.0</td>\n",
       "      <td>480.0</td>\n",
       "      <td>3022.0</td>\n",
       "      <td>34.0</td>\n",
       "      <td>2419.0</td>\n",
       "    </tr>\n",
       "    <tr>\n",
       "      <th>U</th>\n",
       "      <td>4.0</td>\n",
       "      <td>3940.0</td>\n",
       "      <td>478.0</td>\n",
       "      <td>2914.0</td>\n",
       "      <td>37.0</td>\n",
       "      <td>2336.0</td>\n",
       "    </tr>\n",
       "    <tr>\n",
       "      <th>W</th>\n",
       "      <td>1.0</td>\n",
       "      <td>3782.0</td>\n",
       "      <td>511.0</td>\n",
       "      <td>2960.0</td>\n",
       "      <td>35.0</td>\n",
       "      <td>2396.0</td>\n",
       "    </tr>\n",
       "    <tr>\n",
       "      <th>colorless</th>\n",
       "      <td>2.0</td>\n",
       "      <td>1426.0</td>\n",
       "      <td>439.0</td>\n",
       "      <td>2907.0</td>\n",
       "      <td>30.0</td>\n",
       "      <td>2227.0</td>\n",
       "    </tr>\n",
       "    <tr>\n",
       "      <th>multi</th>\n",
       "      <td>NaN</td>\n",
       "      <td>1434.0</td>\n",
       "      <td>1591.0</td>\n",
       "      <td>4382.0</td>\n",
       "      <td>43.0</td>\n",
       "      <td>2927.0</td>\n",
       "    </tr>\n",
       "  </tbody>\n",
       "</table>\n",
       "</div>"
      ],
      "text/plain": [
       "rarity     Bonus  Common  Mythic    Rare  Special  Uncommon\n",
       "color_id                                                   \n",
       "B            1.0  3981.0   534.0  2969.0     34.0    2435.0\n",
       "G            1.0  4156.0   450.0  3040.0     35.0    2491.0\n",
       "R            1.0  3885.0   480.0  3022.0     34.0    2419.0\n",
       "U            4.0  3940.0   478.0  2914.0     37.0    2336.0\n",
       "W            1.0  3782.0   511.0  2960.0     35.0    2396.0\n",
       "colorless    2.0  1426.0   439.0  2907.0     30.0    2227.0\n",
       "multi        NaN  1434.0  1591.0  4382.0     43.0    2927.0"
      ]
     },
     "metadata": {},
     "output_type": "display_data"
    },
    {
     "data": {
      "image/png": "[encoded data removed]",
      "text/plain": [
       "<Figure size 1440x1080 with 6 Axes>"
      ]
     },
     "metadata": {},
     "output_type": "display_data"
    }
   ],
   "source": [
    "# распределение карт по цвету в зависимости от редкости\n",
    "# сводная таблица\n",
    "df_piv = df.pivot_table(index='color_id', columns='rarity',\n",
    "                        values='name', aggfunc='count')\n",
    "\n",
    "display(df_piv)\n",
    "\n",
    "plot_rarity = df_piv.sum().sort_values(ascending=False).head(6).index\n",
    "\n",
    "# диаграммы\n",
    "df_piv.reindex(columns=plot_rarity).plot.pie(subplots=True,\n",
    "                                             figsize=(20, 15),\n",
    "                                             layout=(-1, 3),\n",
    "                                             autopct='%.2f%%',\n",
    "                                             wedgeprops=dict(width=0.7));"
   ]
  },
  {
   "cell_type": "markdown",
   "id": "15102981",
   "metadata": {
    "papermill": {
     "duration": 0.013919,
     "end_time": "2022-06-16T12:03:52.609940",
     "exception": false,
     "start_time": "2022-06-16T12:03:52.596021",
     "status": "completed"
    },
    "tags": []
   },
   "source": [
    "<div class=\"alert alert-success\"> \n",
    "В работе были объединены карты с 2 или более цветами в разноцветную категорию multy. Карты, о которых нет информации по цвету, отнесены в группу бесцветных - colorless. Таким образом, можно отметить, что в категории Bonus нет разноцветных карт, больше всего представлено карт синего цвета - U. В категориях Special, Mythic, Uncommon и Rare больше представлено именно разноцветных карт. В категории Common больше распространены карты черного цвета - B."
   ]
  },
  {
   "cell_type": "markdown",
   "id": "3dab86e1",
   "metadata": {
    "papermill": {
     "duration": 0.013955,
     "end_time": "2022-06-16T12:03:52.638702",
     "exception": false,
     "start_time": "2022-06-16T12:03:52.624747",
     "status": "completed"
    },
    "tags": []
   },
   "source": [
    "## Процент карт, запрещенных в формате Commander, а также распределение по типу для этих карт."
   ]
  },
  {
   "cell_type": "code",
   "execution_count": 11,
   "id": "3ce6603e",
   "metadata": {
    "execution": {
     "iopub.execute_input": "2022-06-16T12:03:52.669514Z",
     "iopub.status.busy": "2022-06-16T12:03:52.668742Z",
     "iopub.status.idle": "2022-06-16T12:03:56.312855Z",
     "shell.execute_reply": "2022-06-16T12:03:56.311850Z"
    },
    "id": "7qQawGTSw1dq",
    "outputId": "fa3c6447-0d16-4e34-c798-fdd441c612f5",
    "papermill": {
     "duration": 3.661656,
     "end_time": "2022-06-16T12:03:56.314796",
     "exception": false,
     "start_time": "2022-06-16T12:03:52.653140",
     "status": "completed"
    },
    "tags": []
   },
   "outputs": [
    {
     "data": {
      "text/plain": [
       "Other            66419\n",
       "Commander_ban      351\n",
       "Name: format, dtype: int64"
      ]
     },
     "execution_count": 11,
     "metadata": {},
     "output_type": "execute_result"
    }
   ],
   "source": [
    "# заполнение пропусков в столбце legalities\n",
    "df['legalities'].fillna('не определен', inplace=True)\n",
    "\n",
    "# функция преобразования строкового столбца в список строк\n",
    "def str_to_list(cell):\n",
    "    cell = ''.join(c for c in cell if c not in \"'[{}]\")\n",
    "    cell = cell.split(', ')\n",
    "    return cell\n",
    "\n",
    "# функция, позволяющая выделить карты, запрещенные в формате Commander\n",
    "def format(row):\n",
    "  y = row['legalities']\n",
    "  x = str_to_list(y)\n",
    "  if x[0] == \"format: Commander\" and x[1] == \"legality: Banned\":\n",
    "    return \"Commander_ban\"\n",
    "  else:\n",
    "    return \"Other\"\n",
    "\n",
    "df['format'] = df.apply(format, axis=1)\n",
    "\n",
    "# проверка\n",
    "df['format'].value_counts()"
   ]
  },
  {
   "cell_type": "code",
   "execution_count": 12,
   "id": "e6a159f8",
   "metadata": {
    "execution": {
     "iopub.execute_input": "2022-06-16T12:03:56.345087Z",
     "iopub.status.busy": "2022-06-16T12:03:56.344296Z",
     "iopub.status.idle": "2022-06-16T12:03:56.622182Z",
     "shell.execute_reply": "2022-06-16T12:03:56.620832Z"
    },
    "id": "xaQrPTDAY6p6",
    "outputId": "114c0589-b438-4bcd-b0f7-d5b0bba08f75",
    "papermill": {
     "duration": 0.29645,
     "end_time": "2022-06-16T12:03:56.625434",
     "exception": false,
     "start_time": "2022-06-16T12:03:56.328984",
     "status": "completed"
    },
    "tags": []
   },
   "outputs": [
    {
     "data": {
      "image/png": "[encoded data removed]",
      "text/plain": [
       "<Figure size 504x360 with 1 Axes>"
      ]
     },
     "metadata": {},
     "output_type": "display_data"
    }
   ],
   "source": [
    "# сводная таблица\n",
    "format_legal = df.pivot_table(index = 'format', values = 'name', aggfunc = ['count'])\n",
    "format_legal.columns = ['count']\n",
    "# диаграмма\n",
    "palette_color = sns.color_palette('bright')\n",
    "fig, ax = plt.subplots(figsize=(7, 5))\n",
    "plt.pie(data=format_legal, x = 'count', labels = format_legal.index, colors = palette_color, autopct='%.2f%%')\n",
    "ax.axis('equal')\n",
    "ax.legend(loc='best')\n",
    "plt.title('Процент карт, запрещенных в формате Commander', fontsize=15);\n",
    "plt.show()"
   ]
  },
  {
   "cell_type": "markdown",
   "id": "a5f7d7d1",
   "metadata": {
    "papermill": {
     "duration": 0.016751,
     "end_time": "2022-06-16T12:03:56.669629",
     "exception": false,
     "start_time": "2022-06-16T12:03:56.652878",
     "status": "completed"
    },
    "tags": []
   },
   "source": [
    "<div class=\"alert alert-success\"> \n",
    "0.53 % от общего числа карт составляют карты, запрещенные в формате Commander."
   ]
  },
  {
   "cell_type": "code",
   "execution_count": 13,
   "id": "00a71a9a",
   "metadata": {
    "execution": {
     "iopub.execute_input": "2022-06-16T12:03:56.700898Z",
     "iopub.status.busy": "2022-06-16T12:03:56.700474Z",
     "iopub.status.idle": "2022-06-16T12:03:56.717304Z",
     "shell.execute_reply": "2022-06-16T12:03:56.716698Z"
    },
    "id": "iBXOK9d4adQV",
    "outputId": "9f49a699-a7f4-4b35-cea7-854a2c277daf",
    "papermill": {
     "duration": 0.034735,
     "end_time": "2022-06-16T12:03:56.719119",
     "exception": false,
     "start_time": "2022-06-16T12:03:56.684384",
     "status": "completed"
    },
    "tags": []
   },
   "outputs": [
    {
     "data": {
      "text/plain": [
       "Sorcery                                 96\n",
       "Artifact                                81\n",
       "Enchantment                             36\n",
       "Conspiracy                              26\n",
       "Instant                                 19\n",
       "Legendary Land                          12\n",
       "Legendary Creature — Eldrazi             9\n",
       "Legendary Creature — Demon               7\n",
       "Creature — Giant                         7\n",
       "Creature — Human Nomad                   6\n",
       "Artifact Creature — Golem                6\n",
       "Legendary Creature — Elemental Otter     5\n",
       "Land                                     5\n",
       "Legendary Artifact                       4\n",
       "Legendary Creature — Elf Advisor         4\n",
       "Creature — Efreet                        4\n",
       "Legendary Creature — Angel               3\n",
       "Legendary Artifact Creature — Scout      3\n",
       "Creature — Human Wizard                  3\n",
       "Legendary Creature — Human Minion        3\n",
       "Creature — Merfolk Pirate                3\n",
       "Creature — Devil                         2\n",
       "Legendary Creature — Elf Druid           2\n",
       "Creature — Horror                        1\n",
       "Creature — Avatar                        1\n",
       "Enchantment — Aura                       1\n",
       "Legendary Creature — Moonfolk Monk       1\n",
       "Legendary Enchantment                    1\n",
       "Name: type, dtype: int64"
      ]
     },
     "execution_count": 13,
     "metadata": {},
     "output_type": "execute_result"
    }
   ],
   "source": [
    "# срез с картами, запрещенными в формате Commander\n",
    "df_commander_ban = df.query('format == \"Commander_ban\"')\n",
    "# распределение по типу карт\n",
    "df_commander_ban['type'].value_counts()"
   ]
  },
  {
   "cell_type": "code",
   "execution_count": 14,
   "id": "0dc61972",
   "metadata": {
    "execution": {
     "iopub.execute_input": "2022-06-16T12:03:56.751575Z",
     "iopub.status.busy": "2022-06-16T12:03:56.750977Z",
     "iopub.status.idle": "2022-06-16T12:03:56.783369Z",
     "shell.execute_reply": "2022-06-16T12:03:56.782410Z"
    },
    "id": "oTjclMpTtaxR",
    "outputId": "e2963ddf-ed36-4dcf-a7a0-50072e135e8f",
    "papermill": {
     "duration": 0.050815,
     "end_time": "2022-06-16T12:03:56.785414",
     "exception": false,
     "start_time": "2022-06-16T12:03:56.734599",
     "status": "completed"
    },
    "tags": []
   },
   "outputs": [
    {
     "data": {
      "text/plain": [
       "Sorcery        96\n",
       "Artifact       85\n",
       "Creature       70\n",
       "Enchantment    38\n",
       "Conspiracy     26\n",
       "Instant        19\n",
       "Land           17\n",
       "Name: type_id, dtype: int64"
      ]
     },
     "metadata": {},
     "output_type": "display_data"
    },
    {
     "data": {
      "text/html": [
       "<div>\n",
       "<style scoped>\n",
       "    .dataframe tbody tr th:only-of-type {\n",
       "        vertical-align: middle;\n",
       "    }\n",
       "\n",
       "    .dataframe tbody tr th {\n",
       "        vertical-align: top;\n",
       "    }\n",
       "\n",
       "    .dataframe thead th {\n",
       "        text-align: right;\n",
       "    }\n",
       "</style>\n",
       "<table border=\"1\" class=\"dataframe\">\n",
       "  <thead>\n",
       "    <tr style=\"text-align: right;\">\n",
       "      <th></th>\n",
       "      <th></th>\n",
       "      <th>count</th>\n",
       "    </tr>\n",
       "    <tr>\n",
       "      <th>type_id</th>\n",
       "      <th>type</th>\n",
       "      <th></th>\n",
       "    </tr>\n",
       "  </thead>\n",
       "  <tbody>\n",
       "    <tr>\n",
       "      <th rowspan=\"2\" valign=\"top\">Artifact</th>\n",
       "      <th>Artifact</th>\n",
       "      <td>81</td>\n",
       "    </tr>\n",
       "    <tr>\n",
       "      <th>Legendary Artifact</th>\n",
       "      <td>4</td>\n",
       "    </tr>\n",
       "    <tr>\n",
       "      <th>Conspiracy</th>\n",
       "      <th>Conspiracy</th>\n",
       "      <td>26</td>\n",
       "    </tr>\n",
       "    <tr>\n",
       "      <th rowspan=\"18\" valign=\"top\">Creature</th>\n",
       "      <th>Artifact Creature — Golem</th>\n",
       "      <td>6</td>\n",
       "    </tr>\n",
       "    <tr>\n",
       "      <th>Creature — Avatar</th>\n",
       "      <td>1</td>\n",
       "    </tr>\n",
       "    <tr>\n",
       "      <th>Creature — Devil</th>\n",
       "      <td>2</td>\n",
       "    </tr>\n",
       "    <tr>\n",
       "      <th>Creature — Efreet</th>\n",
       "      <td>4</td>\n",
       "    </tr>\n",
       "    <tr>\n",
       "      <th>Creature — Giant</th>\n",
       "      <td>7</td>\n",
       "    </tr>\n",
       "    <tr>\n",
       "      <th>Creature — Horror</th>\n",
       "      <td>1</td>\n",
       "    </tr>\n",
       "    <tr>\n",
       "      <th>Creature — Human Nomad</th>\n",
       "      <td>6</td>\n",
       "    </tr>\n",
       "    <tr>\n",
       "      <th>Creature — Human Wizard</th>\n",
       "      <td>3</td>\n",
       "    </tr>\n",
       "    <tr>\n",
       "      <th>Creature — Merfolk Pirate</th>\n",
       "      <td>3</td>\n",
       "    </tr>\n",
       "    <tr>\n",
       "      <th>Legendary Artifact Creature — Scout</th>\n",
       "      <td>3</td>\n",
       "    </tr>\n",
       "    <tr>\n",
       "      <th>Legendary Creature — Angel</th>\n",
       "      <td>3</td>\n",
       "    </tr>\n",
       "    <tr>\n",
       "      <th>Legendary Creature — Demon</th>\n",
       "      <td>7</td>\n",
       "    </tr>\n",
       "    <tr>\n",
       "      <th>Legendary Creature — Eldrazi</th>\n",
       "      <td>9</td>\n",
       "    </tr>\n",
       "    <tr>\n",
       "      <th>Legendary Creature — Elemental Otter</th>\n",
       "      <td>5</td>\n",
       "    </tr>\n",
       "    <tr>\n",
       "      <th>Legendary Creature — Elf Advisor</th>\n",
       "      <td>4</td>\n",
       "    </tr>\n",
       "    <tr>\n",
       "      <th>Legendary Creature — Elf Druid</th>\n",
       "      <td>2</td>\n",
       "    </tr>\n",
       "    <tr>\n",
       "      <th>Legendary Creature — Human Minion</th>\n",
       "      <td>3</td>\n",
       "    </tr>\n",
       "    <tr>\n",
       "      <th>Legendary Creature — Moonfolk Monk</th>\n",
       "      <td>1</td>\n",
       "    </tr>\n",
       "    <tr>\n",
       "      <th rowspan=\"3\" valign=\"top\">Enchantment</th>\n",
       "      <th>Enchantment</th>\n",
       "      <td>36</td>\n",
       "    </tr>\n",
       "    <tr>\n",
       "      <th>Enchantment — Aura</th>\n",
       "      <td>1</td>\n",
       "    </tr>\n",
       "    <tr>\n",
       "      <th>Legendary Enchantment</th>\n",
       "      <td>1</td>\n",
       "    </tr>\n",
       "    <tr>\n",
       "      <th>Instant</th>\n",
       "      <th>Instant</th>\n",
       "      <td>19</td>\n",
       "    </tr>\n",
       "    <tr>\n",
       "      <th rowspan=\"2\" valign=\"top\">Land</th>\n",
       "      <th>Land</th>\n",
       "      <td>5</td>\n",
       "    </tr>\n",
       "    <tr>\n",
       "      <th>Legendary Land</th>\n",
       "      <td>12</td>\n",
       "    </tr>\n",
       "    <tr>\n",
       "      <th>Sorcery</th>\n",
       "      <th>Sorcery</th>\n",
       "      <td>96</td>\n",
       "    </tr>\n",
       "  </tbody>\n",
       "</table>\n",
       "</div>"
      ],
      "text/plain": [
       "                                                  count\n",
       "type_id     type                                       \n",
       "Artifact    Artifact                                 81\n",
       "            Legendary Artifact                        4\n",
       "Conspiracy  Conspiracy                               26\n",
       "Creature    Artifact Creature — Golem                 6\n",
       "            Creature — Avatar                         1\n",
       "            Creature — Devil                          2\n",
       "            Creature — Efreet                         4\n",
       "            Creature — Giant                          7\n",
       "            Creature — Horror                         1\n",
       "            Creature — Human Nomad                    6\n",
       "            Creature — Human Wizard                   3\n",
       "            Creature — Merfolk Pirate                 3\n",
       "            Legendary Artifact Creature — Scout       3\n",
       "            Legendary Creature — Angel                3\n",
       "            Legendary Creature — Demon                7\n",
       "            Legendary Creature — Eldrazi              9\n",
       "            Legendary Creature — Elemental Otter      5\n",
       "            Legendary Creature — Elf Advisor          4\n",
       "            Legendary Creature — Elf Druid            2\n",
       "            Legendary Creature — Human Minion         3\n",
       "            Legendary Creature — Moonfolk Monk        1\n",
       "Enchantment Enchantment                              36\n",
       "            Enchantment — Aura                        1\n",
       "            Legendary Enchantment                     1\n",
       "Instant     Instant                                  19\n",
       "Land        Land                                      5\n",
       "            Legendary Land                           12\n",
       "Sorcery     Sorcery                                  96"
      ]
     },
     "execution_count": 14,
     "metadata": {},
     "output_type": "execute_result"
    }
   ],
   "source": [
    "# дублирование столбца\n",
    "df_commander_ban['type_id'] = df_commander_ban[['type']]\n",
    "\n",
    "# распределение карт по укрупненным группам \n",
    "df_commander_ban.loc[(df_commander_ban.type_id.str.contains('Creature')), 'type_id'] = 'Creature'\n",
    "df_commander_ban.loc[(df_commander_ban.type_id.str.contains('Land')), 'type_id'] = 'Land'\n",
    "df_commander_ban.loc[(df_commander_ban.type_id.str.contains('Artifact')), 'type_id'] = 'Artifact'\n",
    "df_commander_ban.loc[(df_commander_ban.type_id.str.contains('Enchantment')), 'type_id'] = 'Enchantment'\n",
    "\n",
    "# проверка\n",
    "display(df_commander_ban['type_id'].value_counts())\n",
    "# сводная таблица\n",
    "commander_type = df_commander_ban.pivot_table(index = ['type_id', 'type'], values = 'name', aggfunc = ['count'])\n",
    "commander_type.columns = ['count']\n",
    "commander_type"
   ]
  },
  {
   "cell_type": "code",
   "execution_count": 15,
   "id": "e7f96740",
   "metadata": {
    "execution": {
     "iopub.execute_input": "2022-06-16T12:03:56.818794Z",
     "iopub.status.busy": "2022-06-16T12:03:56.818135Z",
     "iopub.status.idle": "2022-06-16T12:03:57.041119Z",
     "shell.execute_reply": "2022-06-16T12:03:57.039859Z"
    },
    "id": "wUsAgYt2j40A",
    "outputId": "63721809-d9ba-4750-ad98-171dc3007048",
    "papermill": {
     "duration": 0.243154,
     "end_time": "2022-06-16T12:03:57.044280",
     "exception": false,
     "start_time": "2022-06-16T12:03:56.801126",
     "status": "completed"
    },
    "tags": []
   },
   "outputs": [
    {
     "data": {
      "image/png": "[encoded data removed]",
      "text/plain": [
       "<Figure size 720x504 with 1 Axes>"
      ]
     },
     "metadata": {},
     "output_type": "display_data"
    }
   ],
   "source": [
    "# сводная таблица\n",
    "type_com = df_commander_ban.pivot_table(index = 'type_id', values = 'name', aggfunc = ['count'])\n",
    "type_com.columns = ['count']\n",
    "\n",
    "# диаграмма\n",
    "palette_color = sns.color_palette()\n",
    "fig, ax = plt.subplots(figsize=(10, 7))\n",
    "plt.pie(data=type_com, x = 'count', labels = type_com.index, colors = palette_color, autopct='%.2f%%')\n",
    "ax.axis('equal')\n",
    "ax.legend(loc='center right')\n",
    "ax.set_title('Распределение по типу карт', fontsize = 20)\n",
    "plt.show()"
   ]
  },
  {
   "cell_type": "markdown",
   "id": "00ee894a",
   "metadata": {
    "papermill": {
     "duration": 0.015978,
     "end_time": "2022-06-16T12:03:57.080743",
     "exception": false,
     "start_time": "2022-06-16T12:03:57.064765",
     "status": "completed"
    },
    "tags": []
   },
   "source": [
    "<div class=\"alert alert-success\"> \n",
    "Поскольку в столбце type в ряде случаев приведенные типы можно было объединить в более крупные группы, итоговый результат представлен именно с учетом укрупненных групп. Среди карт, запрещенных в формате Commander, преобладают карты типа Sorcery, на втором месте карты типа Artifact, на третьем - Creature. Минимально представлен тип - Land."
   ]
  },
  {
   "cell_type": "markdown",
   "id": "956b8a53",
   "metadata": {
    "papermill": {
     "duration": 0.016512,
     "end_time": "2022-06-16T12:03:57.113478",
     "exception": false,
     "start_time": "2022-06-16T12:03:57.096966",
     "status": "completed"
    },
    "tags": []
   },
   "source": [
    "## Топ-10 карт, не являющихся землями, которые были напечатаны в наибольшем количестве сетов."
   ]
  },
  {
   "cell_type": "code",
   "execution_count": 16,
   "id": "bd49129c",
   "metadata": {
    "execution": {
     "iopub.execute_input": "2022-06-16T12:03:57.148024Z",
     "iopub.status.busy": "2022-06-16T12:03:57.147632Z",
     "iopub.status.idle": "2022-06-16T12:03:57.419638Z",
     "shell.execute_reply": "2022-06-16T12:03:57.418796Z"
    },
    "id": "V8iuxjullG0f",
    "outputId": "3042ee38-e182-469f-e8d1-5f4dfeed85cf",
    "papermill": {
     "duration": 0.292196,
     "end_time": "2022-06-16T12:03:57.422120",
     "exception": false,
     "start_time": "2022-06-16T12:03:57.129924",
     "status": "completed"
    },
    "tags": []
   },
   "outputs": [
    {
     "data": {
      "text/plain": [
       "name\n",
       "Counterspell            57\n",
       "Swords to Plowshares    54\n",
       "Disenchant              50\n",
       "Giant Growth            49\n",
       "Lightning Bolt          44\n",
       "Sol Ring                44\n",
       "Serra Angel             44\n",
       "Llanowar Elves          44\n",
       "Dark Ritual             43\n",
       "Wrath of God            42\n",
       "Name: count, dtype: int64"
      ]
     },
     "execution_count": 16,
     "metadata": {},
     "output_type": "execute_result"
    }
   ],
   "source": [
    "# дублирование столбца\n",
    "df['type_id'] = df[['type']]\n",
    "\n",
    "# выделение отдельно карт типа Земля (Land)\n",
    "df.loc[df.type_id.str.contains('Land')]\n",
    "df.loc[(df.type_id.str.contains('Land')), 'type_id'] = 'Land'\n",
    "\n",
    "# создание среза карт, не являющихся землями\n",
    "df_no_land = df.query('type_id != \"Land\"')\n",
    "\n",
    "# сводная таблица с количеством сетов по каждой карте\n",
    "set_no_land = df_no_land.pivot_table(index = ['name'], values = 'set', aggfunc = ['count'])\n",
    "set_no_land.columns = ['count']\n",
    "\n",
    "# Топ-10 карт с наибольшим количеством сетов\n",
    "set_10 = set_no_land['count'].sort_values(ascending=False).head(10)\n",
    "set_10"
   ]
  },
  {
   "cell_type": "markdown",
   "id": "ac226967",
   "metadata": {
    "papermill": {
     "duration": 0.016237,
     "end_time": "2022-06-16T12:03:57.455317",
     "exception": false,
     "start_time": "2022-06-16T12:03:57.439080",
     "status": "completed"
    },
    "tags": []
   },
   "source": [
    "<div class=\"alert alert-success\"> \n",
    "В десятку входят карты с количеством сетов от 57 до 42: Counterspell, Swords to Plowshares, Disenchant, Giant Growth, Lightning Bolt, Sol Ring, Serra Angel, Llanowar Elves, Dark Ritual, Wrath of God."
   ]
  },
  {
   "cell_type": "markdown",
   "id": "1673a6f2",
   "metadata": {
    "papermill": {
     "duration": 0.016672,
     "end_time": "2022-06-16T12:03:57.488126",
     "exception": false,
     "start_time": "2022-06-16T12:03:57.471454",
     "status": "completed"
    },
    "tags": []
   },
   "source": [
    "## Определение для карт, не являющихся землями, того, какая часть из них даёт ману с помощью своего эффекта. Распределение по типу маны, которую дают эти карты."
   ]
  },
  {
   "cell_type": "code",
   "execution_count": 17,
   "id": "36a028d6",
   "metadata": {
    "execution": {
     "iopub.execute_input": "2022-06-16T12:03:57.522847Z",
     "iopub.status.busy": "2022-06-16T12:03:57.522227Z",
     "iopub.status.idle": "2022-06-16T12:03:57.619536Z",
     "shell.execute_reply": "2022-06-16T12:03:57.618828Z"
    },
    "id": "LI_OnGh8Y-sJ",
    "outputId": "c94501c0-57db-4229-91af-29c21bf39934",
    "papermill": {
     "duration": 0.117085,
     "end_time": "2022-06-16T12:03:57.621652",
     "exception": false,
     "start_time": "2022-06-16T12:03:57.504567",
     "status": "completed"
    },
    "tags": []
   },
   "outputs": [
    {
     "data": {
      "text/plain": [
       "False    56413\n",
       "True      2765\n",
       "Name: add, dtype: int64"
      ]
     },
     "execution_count": 17,
     "metadata": {},
     "output_type": "execute_result"
    }
   ],
   "source": [
    "# выделение категории карт, в описании которых есть упоминание об их способностях давать ману (ориентируемся на слово 'add') \n",
    "df_no_land['text'] = df_no_land['text'].apply(str)\n",
    "df_no_land['text'] = df_no_land['text'].apply(lambda x: x.lower())\n",
    "df_no_land['add'] = df_no_land['text'].apply(lambda x: ('add ' in x))\n",
    "\n",
    "# проверка\n",
    "df_no_land['add'].value_counts()"
   ]
  },
  {
   "cell_type": "code",
   "execution_count": 18,
   "id": "394d3b79",
   "metadata": {
    "execution": {
     "iopub.execute_input": "2022-06-16T12:03:57.656936Z",
     "iopub.status.busy": "2022-06-16T12:03:57.656054Z",
     "iopub.status.idle": "2022-06-16T12:03:57.879779Z",
     "shell.execute_reply": "2022-06-16T12:03:57.878488Z"
    },
    "id": "9Qkjb5drefv4",
    "outputId": "89e0f2e5-d818-4564-aff4-83f96ab16ae7",
    "papermill": {
     "duration": 0.245015,
     "end_time": "2022-06-16T12:03:57.883201",
     "exception": false,
     "start_time": "2022-06-16T12:03:57.638186",
     "status": "completed"
    },
    "tags": []
   },
   "outputs": [
    {
     "data": {
      "image/png": "[encoded data removed]",
      "text/plain": [
       "<Figure size 504x360 with 1 Axes>"
      ]
     },
     "metadata": {},
     "output_type": "display_data"
    }
   ],
   "source": [
    "# сводная таблица\n",
    "add_mana = df_no_land.pivot_table(index = 'add', values = 'name', aggfunc = ['count'])\n",
    "add_mana.columns = ['count']\n",
    "\n",
    "# диаграмма\n",
    "palette_color = sns.color_palette('bright')\n",
    "fig, ax = plt.subplots(figsize=(7, 5))\n",
    "plt.pie(data=add_mana, x = 'count', colors = palette_color, autopct='%.2f%%')\n",
    "ax.axis('equal')\n",
    "ax.legend(loc='best')\n",
    "ax.set_title('Процент карт, не являющихся землями и дающих ману', fontsize = 16)\n",
    "plt.legend(bbox_to_anchor=(1, 1))\n",
    "plt.legend(['НЕ дают ману', 'Дают ману'])\n",
    "plt.show();"
   ]
  },
  {
   "cell_type": "markdown",
   "id": "78b9fc98",
   "metadata": {
    "papermill": {
     "duration": 0.016786,
     "end_time": "2022-06-16T12:03:57.931421",
     "exception": false,
     "start_time": "2022-06-16T12:03:57.914635",
     "status": "completed"
    },
    "tags": []
   },
   "source": [
    "<div class=\"alert alert-success\"> \n",
    "Для ответа на поставленный вопрос использовались данные столбца text, где было указана информация о том, какую ману может давать та или иная карта. Таким образом, в одну группу были объединены карты, у которых в описании было отмечено то, что они дают какую-либо ману. В результате таких карт оказалось 4.67%."
   ]
  },
  {
   "cell_type": "code",
   "execution_count": 19,
   "id": "f7eb547a",
   "metadata": {
    "execution": {
     "iopub.execute_input": "2022-06-16T12:03:57.967731Z",
     "iopub.status.busy": "2022-06-16T12:03:57.966850Z",
     "iopub.status.idle": "2022-06-16T12:03:58.004917Z",
     "shell.execute_reply": "2022-06-16T12:03:58.004168Z"
    },
    "id": "teFtTu7Ehhfp",
    "outputId": "88473108-069b-4289-b24e-271776dc46bc",
    "papermill": {
     "duration": 0.05814,
     "end_time": "2022-06-16T12:03:58.007041",
     "exception": false,
     "start_time": "2022-06-16T12:03:57.948901",
     "status": "completed"
    },
    "tags": []
   },
   "outputs": [
    {
     "data": {
      "text/plain": [
       "['w', 'b', 'r', 'g', 'u']    898\n",
       "['c']                        463\n",
       "['g']                        314\n",
       "['r']                        203\n",
       "['b']                        172\n",
       "['r', 'g']                    65\n",
       "['u']                         59\n",
       "['w']                         52\n",
       "['w', 'u']                    32\n",
       "['b', 'r']                    31\n",
       "['g', 'u']                    28\n",
       "['b', 'u']                    26\n",
       "['w', 'r']                    25\n",
       "['b', 'g']                    25\n",
       "['r', 'u']                    23\n",
       "['w', 'g']                    21\n",
       "['w', 'b']                    20\n",
       "['w', 'g', 'u']               16\n",
       "['u', 'c']                    15\n",
       "['b', 'r', 'u']               14\n",
       "['b', 'r', 'g']               10\n",
       "['w', 'r', 'g']                9\n",
       "['w', 'b', 'u']                7\n",
       "['w', 'r', 'u']                7\n",
       "['r', 'g', 'u']                6\n",
       "['w', 'r', 'g', 'u']           6\n",
       "['g', 'u', 'c']                5\n",
       "['b', 'c']                     5\n",
       "['b', 'g', 'c']                5\n",
       "['r', 'u', 'c']                4\n",
       "['b', 'u', 'c']                4\n",
       "['g', 'c']                     4\n",
       "['w', 'b', 'r']                4\n",
       "['r', 'c']                     4\n",
       "['b', 'r', 'c']                3\n",
       "['b', 'g', 'u']                3\n",
       "['w', 'u', 'c']                3\n",
       "['w', 'r', 'c']                2\n",
       "['w', 'b', 'c']                2\n",
       "['w', 'b', 'g']                2\n",
       "['w', 'g', 'c']                2\n",
       "['r', 'g', 'c']                1\n",
       "Name: add, dtype: int64"
      ]
     },
     "execution_count": 19,
     "metadata": {},
     "output_type": "execute_result"
    }
   ],
   "source": [
    "# создание среза карт, не являющихся землями и дающих ману\n",
    "df_no_land_add_mana = df_no_land.query('add == True')\n",
    "\n",
    "# категоризация карт в зависимости от того, какой тип ману они дают\n",
    "def mana_add(x):\n",
    "    give = x.split('add')[1]\n",
    "    give = give.split('.')[0]\n",
    "    if 'mana' in give:\n",
    "        return ['w', 'b', 'r', 'g', 'u']\n",
    "    mana_type = []\n",
    "    if '{w}' in x:\n",
    "        mana_type.append('w')\n",
    "    if '{b}' in x:\n",
    "        mana_type.append('b')\n",
    "    if '{r}' in x:\n",
    "        mana_type.append('r')\n",
    "    if '{g}' in x:\n",
    "        mana_type.append('g')\n",
    "    if '{u}' in x:\n",
    "        mana_type.append('u')\n",
    "    if '{c}' in x:\n",
    "        mana_type.append('c')\n",
    "    return mana_type\n",
    "\n",
    "# добавление информации в существующий столбец add\n",
    "df_no_land_add_mana['add'] = df_no_land_add_mana['text'].apply(mana_add)\n",
    "# преобразование в строковый формат\n",
    "df_no_land_add_mana['add'] = df_no_land_add_mana['add'].apply(str)\n",
    "# удаление ненужных символов\n",
    "df_no_land_add_mana = df_no_land_add_mana.loc[df_no_land_add_mana['add'] !='[]', :]\n",
    "\n",
    "# проверка\n",
    "df_no_land_add_mana['add'].value_counts()"
   ]
  },
  {
   "cell_type": "code",
   "execution_count": 20,
   "id": "124b7768",
   "metadata": {
    "execution": {
     "iopub.execute_input": "2022-06-16T12:03:58.043529Z",
     "iopub.status.busy": "2022-06-16T12:03:58.042879Z",
     "iopub.status.idle": "2022-06-16T12:03:58.598439Z",
     "shell.execute_reply": "2022-06-16T12:03:58.597517Z"
    },
    "id": "kL3BnQCYpkhQ",
    "outputId": "b0fdc574-26e5-44f8-a92a-06bbdbf8cdf0",
    "papermill": {
     "duration": 0.576779,
     "end_time": "2022-06-16T12:03:58.600697",
     "exception": false,
     "start_time": "2022-06-16T12:03:58.023918",
     "status": "completed"
    },
    "tags": []
   },
   "outputs": [
    {
     "data": {
      "image/png": "[encoded data removed]",
      "text/plain": [
       "<Figure size 864x720 with 1 Axes>"
      ]
     },
     "metadata": {
      "needs_background": "light"
     },
     "output_type": "display_data"
    }
   ],
   "source": [
    "# сводная таблица\n",
    "df_mana = df_no_land_add_mana.pivot_table(index = 'add', values = 'name', aggfunc = ['count'])\n",
    "df_mana.columns = ['count']\n",
    "\n",
    "# диаграмма\n",
    "fig, ax = plt.subplots(figsize=(12, 10))\n",
    "sns.barplot(data=df_mana, y = df_mana.index, x = 'count')\n",
    "plt.title('Распределение карт по типу маны, которую они дают', fontsize = 16)\n",
    "plt.xlabel('Кол-во карт', fontsize=12)\n",
    "plt.ylabel('Тип маны', fontsize=12);"
   ]
  },
  {
   "cell_type": "markdown",
   "id": "1aa390bc",
   "metadata": {
    "papermill": {
     "duration": 0.016933,
     "end_time": "2022-06-16T12:03:58.634849",
     "exception": false,
     "start_time": "2022-06-16T12:03:58.617916",
     "status": "completed"
    },
    "tags": []
   },
   "source": [
    "<div class=\"alert alert-success\"> \n",
    "Для случаев, когда в описании карты было указано, что она дают ману любого цвета, изначально указан перечень возможных цветов. Буквой c обозначена мана не цветовая, а числовая. Таким образом, больше всего карт, которые могут давать ману любого цвета, на втором месте карты с числовой маной, на третьем - карты с маной зеленого цвета."
   ]
  },
  {
   "cell_type": "code",
   "execution_count": null,
   "id": "587c7242",
   "metadata": {
    "papermill": {
     "duration": 0.017293,
     "end_time": "2022-06-16T12:03:58.669552",
     "exception": false,
     "start_time": "2022-06-16T12:03:58.652259",
     "status": "completed"
    },
    "tags": []
   },
   "outputs": [],
   "source": []
  }
 ],
 "metadata": {
  "kernelspec": {
   "display_name": "Python 3",
   "language": "python",
   "name": "python3"
  },
  "language_info": {
   "codemirror_mode": {
    "name": "ipython",
    "version": 3
   },
   "file_extension": ".py",
   "mimetype": "text/x-python",
   "name": "python",
   "nbconvert_exporter": "python",
   "pygments_lexer": "ipython3",
   "version": "3.7.12"
  },
  "papermill": {
   "default_parameters": {},
   "duration": 27.889147,
   "end_time": "2022-06-16T12:03:59.509026",
   "environment_variables": {},
   "exception": null,
   "input_path": "__notebook__.ipynb",
   "output_path": "__notebook__.ipynb",
   "parameters": {},
   "start_time": "2022-06-16T12:03:31.619879",
   "version": "2.3.4"
  }
 },
 "nbformat": 4,
 "nbformat_minor": 5
}
